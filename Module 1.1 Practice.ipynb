{
 "cells": [
  {
   "cell_type": "markdown",
   "metadata": {},
   "source": [
    "# **Practice 1.1 Statprob Kelas B**\n",
    "### **Dimas Andhika Diputra 5027231074**\n",
    "1. Diketahui tinggi badan siswa kelas A adalah 100,5 ; 99,7 ; 101 ; 101,3 ; 99,9 ; 98,9 ; 165 ; 102,2 ; 98,7 ; 102,9 ; dan 100. Menggunakan Mean, Median, dan Modus, coba gambarkan pusat distribusi data berikut. Manakah yang paling bagus?\n",
    "\n",
    "2. Berikut adalah nilai UAS pada mata pelajaran matematika di kelas A: 95, 35, 50, 65, 70, 85, 25, 100, 80, 90, 45, 40, 35, 20, 75, 50, 40, 60, 80, 75. Menggunakan Mean, Median, dan Modus, coba gambarkan pusat distribusi data berikut. Manakah yang paling bagus?"
   ]
  },
  {
   "cell_type": "code",
   "execution_count": null,
   "metadata": {},
   "outputs": [
    {
     "ename": "",
     "evalue": "",
     "output_type": "error",
     "traceback": [
      "\u001b[1;31mRunning cells with 'c:\\msys64\\mingw64\\bin\\python.exe' requires the ipykernel package.\n",
      "\u001b[1;31mRun the following command to install 'ipykernel' into the Python environment. \n",
      "\u001b[1;31mCommand: 'c:/msys64/mingw64/bin/python.exe -m pip install ipykernel -U --user --force-reinstall'"
     ]
    }
   ],
   "source": [
    "# 1. Diketahui tinggi badan siswa kelas A adalah \n",
    "# 100,5 ; 99,7 ; 101 ; 101,3 ; 99,9 ; 98,9 ; 165 ; 102,2 ; 98,7 ; 102,9 ; dan 100. \n",
    "# Menggunakan Mean, Median, dan Modus, coba gambarkan pusat distribusi data berikut. \n",
    "# Manakah yang paling bagus?\n",
    "\n",
    "data = [100.5, 99.7 ,101, 101.3, 99.9, 98.9, 165, 102.2, 98.7, 102.9, 100]\n",
    "print(f'Data tinggi badan siswa kelas A: {data}')\n",
    "\n",
    "# Mean\n",
    "jumlahTinggi = sum(data)\n",
    "panjangData = len(data)\n",
    "meanTinggi = jumlahTinggi / panjangData\n",
    "print('\\nMEAN:')\n",
    "print(f'Mean dari tinggi badan siswa kelas A adalah {meanTinggi}')\n",
    "\n",
    "# Buat Histogram\n",
    "\n"
   ]
  },
  {
   "cell_type": "code",
   "execution_count": null,
   "metadata": {},
   "outputs": [],
   "source": []
  }
 ],
 "metadata": {
  "kernelspec": {
   "display_name": "Python 3",
   "language": "python",
   "name": "python3"
  },
  "language_info": {
   "codemirror_mode": {
    "name": "ipython",
    "version": 3
   },
   "file_extension": ".py",
   "mimetype": "text/x-python",
   "name": "python",
   "nbconvert_exporter": "python",
   "pygments_lexer": "ipython3",
   "version": "3.9.7"
  }
 },
 "nbformat": 4,
 "nbformat_minor": 2
}
